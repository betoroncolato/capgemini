{
  "nbformat": 4,
  "nbformat_minor": 0,
  "metadata": {
    "colab": {
      "name": "Capgemini Desafio1",
      "provenance": [],
      "authorship_tag": "ABX9TyNHDk4jTaev6MF9YnnVTQq6",
      "include_colab_link": true
    },
    "kernelspec": {
      "name": "python3",
      "display_name": "Python 3"
    },
    "language_info": {
      "name": "python"
    }
  },
  "cells": [
    {
      "cell_type": "markdown",
      "metadata": {
        "id": "view-in-github",
        "colab_type": "text"
      },
      "source": [
        "<a href=\"https://colab.research.google.com/github/betoroncolato/capgemini/blob/main/Capgemini_Desafio1.ipynb\" target=\"_parent\"><img src=\"https://colab.research.google.com/assets/colab-badge.svg\" alt=\"Open In Colab\"/></a>"
      ]
    },
    {
      "cell_type": "code",
      "execution_count": 1,
      "metadata": {
        "colab": {
          "base_uri": "https://localhost:8080/"
        },
        "id": "H-wpJ66xD0TR",
        "outputId": "94176f02-7cc8-4ebf-b695-32853bd269da"
      },
      "outputs": [
        {
          "output_type": "stream",
          "name": "stdout",
          "text": [
            "escreva o valor de n:5\n",
            "*\n",
            "**\n",
            "***\n",
            "****\n",
            "*****\n"
          ]
        }
      ],
      "source": [
        "n = int(input(\"digite o valor de n:\"))\n",
        "for i in range(n):\n",
        "  k = i+1\n",
        "  for J in range(k):\n",
        "      print(\"*\", end=\"\")\n",
        "  print(\"\\n\", end =\"\")"
      ]
    }
  ]
}